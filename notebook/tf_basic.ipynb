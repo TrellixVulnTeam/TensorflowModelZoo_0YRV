{
 "cells": [
  {
   "cell_type": "code",
   "execution_count": 1,
   "metadata": {},
   "outputs": [],
   "source": [
    "import tensorflow as tf"
   ]
  },
  {
   "cell_type": "code",
   "execution_count": 27,
   "metadata": {
    "collapsed": true
   },
   "outputs": [],
   "source": [
    "# Build a dataflow graph.\n",
    "a = tf.constant([[1.0, 2.0], [3.0, 4.0]])\n",
    "b = tf.constant([[1.0, 1.0], [0.0, 1.0]])\n",
    "session = tf.InteractiveSession()"
   ]
  },
  {
   "cell_type": "code",
   "execution_count": 11,
   "metadata": {},
   "outputs": [
    {
     "name": "stdout",
     "output_type": "stream",
     "text": [
      "[[ 1.  3.]\n",
      " [ 3.  7.]]\n"
     ]
    }
   ],
   "source": [
    "r = tf.matmul(a, b)\n",
    "result = sess.run(e)\n",
    "print result"
   ]
  },
  {
   "cell_type": "code",
   "execution_count": 13,
   "metadata": {},
   "outputs": [
    {
     "name": "stdout",
     "output_type": "stream",
     "text": [
      "[[ 2.  3.]\n",
      " [ 3.  5.]]\n"
     ]
    }
   ],
   "source": [
    "r = sess.run(tf.add(a,b))\n",
    "print r"
   ]
  },
  {
   "cell_type": "code",
   "execution_count": 16,
   "metadata": {},
   "outputs": [
    {
     "name": "stdout",
     "output_type": "stream",
     "text": [
      "[0 1]\n"
     ]
    }
   ],
   "source": [
    "r = sess.run(tf.argmax(b,axis=1))\n",
    "print r"
   ]
  },
  {
   "cell_type": "code",
   "execution_count": 17,
   "metadata": {},
   "outputs": [
    {
     "name": "stdout",
     "output_type": "stream",
     "text": [
      "[[1 2]\n",
      " [3 4]]\n"
     ]
    }
   ],
   "source": [
    "r = sess.run(tf.cast(a, tf.int32))\n",
    "print r"
   ]
  },
  {
   "cell_type": "code",
   "execution_count": 19,
   "metadata": {},
   "outputs": [
    {
     "name": "stdout",
     "output_type": "stream",
     "text": [
      "[[ 1.  2.]\n",
      " [ 3.  4.]]\n"
     ]
    }
   ],
   "source": [
    "#Returns element-wise smallest integer in not less than x.\n",
    "print sess.run(tf.ceil(a))"
   ]
  },
  {
   "cell_type": "code",
   "execution_count": 29,
   "metadata": {},
   "outputs": [
    {
     "name": "stdout",
     "output_type": "stream",
     "text": [
      "[[ 1.  2.  1.  1.]\n",
      " [ 3.  4.  0.  1.]]\n"
     ]
    }
   ],
   "source": [
    "print sess.run(tf.concat([a,b],axis=1)) #1 means zongxiang"
   ]
  },
  {
   "cell_type": "code",
   "execution_count": 31,
   "metadata": {},
   "outputs": [
    {
     "name": "stdout",
     "output_type": "stream",
     "text": [
      "[[1 0 0 0]\n",
      " [0 2 0 0]\n",
      " [0 0 3 0]\n",
      " [0 0 0 4]]\n"
     ]
    }
   ],
   "source": [
    "c = [1,2,3,4]\n",
    "print sess.run(tf.diag(c))"
   ]
  },
  {
   "cell_type": "code",
   "execution_count": 33,
   "metadata": {},
   "outputs": [
    {
     "name": "stdout",
     "output_type": "stream",
     "text": [
      "[[1 2 3 4]]\n"
     ]
    }
   ],
   "source": [
    "#Inserts a dimension of 1 into a tensor's shape.\n",
    "print sess.run(tf.expand_dims(c,axis=0))"
   ]
  },
  {
   "cell_type": "code",
   "execution_count": 35,
   "metadata": {},
   "outputs": [
    {
     "name": "stdout",
     "output_type": "stream",
     "text": [
      "[[9 9 9]\n",
      " [9 9 9]]\n"
     ]
    }
   ],
   "source": [
    "print sess.run(tf.fill([2, 3], 9))"
   ]
  },
  {
   "cell_type": "code",
   "execution_count": 36,
   "metadata": {},
   "outputs": [
    {
     "name": "stdout",
     "output_type": "stream",
     "text": [
      "[[1 1 1]\n",
      " [1 1 1]]\n"
     ]
    }
   ],
   "source": [
    "print sess.run(tf.ones([2, 3], tf.int32))"
   ]
  },
  {
   "cell_type": "code",
   "execution_count": null,
   "metadata": {
    "collapsed": true
   },
   "outputs": [],
   "source": [
    "tf.zeros([3, 4], tf.int32) ==> [[0, 0, 0, 0], [0, 0, 0, 0], [0, 0, 0, 0]]"
   ]
  },
  {
   "cell_type": "code",
   "execution_count": 38,
   "metadata": {},
   "outputs": [
    {
     "name": "stdout",
     "output_type": "stream",
     "text": [
      "[[ 5.  0.  0.]\n",
      " [ 0.  0.  5.]\n",
      " [ 0.  0.  0.]\n",
      " [ 0.  5.  0.]]\n"
     ]
    }
   ],
   "source": [
    "print sess.run(tf.one_hot(indices = [0, 2, -1, 1],\n",
    "  depth = 3,\n",
    "  on_value = 5.0,\n",
    "  off_value = 0.0,\n",
    "  axis = -1))"
   ]
  },
  {
   "cell_type": "code",
   "execution_count": null,
   "metadata": {
    "collapsed": true
   },
   "outputs": [],
   "source": [
    "# 'x' is [[1, 1, 1]\n",
    "#         [1, 1, 1]]\n",
    "tf.reduce_sum(x) ==> 6\n",
    "tf.reduce_sum(x, 0) ==> [2, 2, 2]\n",
    "tf.reduce_sum(x, 1) ==> [3, 3]\n",
    "tf.reduce_sum(x, 1, keep_dims=True) ==> [[3], [3]]\n",
    "tf.reduce_sum(x, [0, 1]) ==> 6"
   ]
  },
  {
   "cell_type": "code",
   "execution_count": null,
   "metadata": {
    "collapsed": true
   },
   "outputs": [],
   "source": [
    "# 'x' is [[1., 1.]\n",
    "#         [2., 2.]]\n",
    "tf.reduce_mean(x) ==> 1.5\n",
    "tf.reduce_mean(x, 0) ==> [1.5, 1.5]\n",
    "tf.reduce_mean(x, 1) ==> [1.,  2.]"
   ]
  },
  {
   "cell_type": "code",
   "execution_count": null,
   "metadata": {
    "collapsed": true
   },
   "outputs": [],
   "source": [
    "# tensor 't' is [1, 2, 3, 4, 5, 6, 7, 8, 9]\n",
    "# tensor 't' has shape [9]\n",
    "reshape(t, [3, 3]) ==> [[1, 2, 3],\n",
    "                        [4, 5, 6],\n",
    "                        [7, 8, 9]]"
   ]
  },
  {
   "cell_type": "code",
   "execution_count": null,
   "metadata": {
    "collapsed": true
   },
   "outputs": [],
   "source": [
    "# 't' is [[[1, 1, 1], [2, 2, 2]], [[3, 3, 3], [4, 4, 4]]]\n",
    "shape(t) ==> [2, 2, 3]"
   ]
  },
  {
   "cell_type": "code",
   "execution_count": null,
   "metadata": {
    "collapsed": true
   },
   "outputs": [],
   "source": [
    "# 'input' is [[[1, 1, 1], [2, 2, 2]],\n",
    "#             [[3, 3, 3], [4, 4, 4]],\n",
    "#             [[5, 5, 5], [6, 6, 6]]]\n",
    "tf.slice(input, [1, 0, 0], [1, 1, 3]) ==> [[[3, 3, 3]]]\n",
    "tf.slice(input, [1, 0, 0], [1, 2, 3]) ==> [[[3, 3, 3],\n",
    "                                            [4, 4, 4]]]\n",
    "tf.slice(input, [1, 0, 0], [2, 1, 3]) ==> [[[3, 3, 3]],\n",
    "                                           [[5, 5, 5]]]\n",
    "slice(\n",
    "    input_,\n",
    "    begin,\n",
    "    size,\n",
    "    name=None\n",
    ")"
   ]
  },
  {
   "cell_type": "code",
   "execution_count": null,
   "metadata": {
    "collapsed": true
   },
   "outputs": [],
   "source": [
    "squeeze(\n",
    "    input,\n",
    "    axis=None,\n",
    "    name=None,\n",
    "    squeeze_dims=None\n",
    ")\n",
    "Removes dimensions of size 1 from the shape of a tensor.\n",
    "# 't' is a tensor of shape [1, 2, 1, 3, 1, 1],Or, to remove specific size 1 dimensions:\n",
    "shape(squeeze(t, [2, 4])) ==> [1, 2, 3, 1]\n",
    "# 't' is a tensor of shape [1, 2, 1, 3, 1, 1]\n",
    "shape(squeeze(t)) ==> [2, 3]"
   ]
  },
  {
   "cell_type": "code",
   "execution_count": null,
   "metadata": {
    "collapsed": true
   },
   "outputs": [],
   "source": [
    "stack(\n",
    "    values,\n",
    "    axis=0,\n",
    "    name='stack'\n",
    ")\n",
    "Stacks a list of rank-R tensors into one rank-(R+1) tensor.\n",
    "# 'x' is [1, 4]\n",
    "# 'y' is [2, 5]\n",
    "# 'z' is [3, 6]\n",
    "stack([x, y, z]) => [[1, 4], [2, 5], [3, 6]]  # Pack along first dim.\n",
    "stack([x, y, z], axis=1) => [[1, 2, 3], [4, 5, 6]]"
   ]
  },
  {
   "cell_type": "code",
   "execution_count": null,
   "metadata": {
    "collapsed": true
   },
   "outputs": [],
   "source": [
    "unstack(\n",
    "    value,\n",
    "    num=None,\n",
    "    axis=0,\n",
    "    name='unstack'\n",
    ")\n",
    "Unpacks the given dimension of a rank-R tensor into rank-(R-1) tensors."
   ]
  }
 ],
 "metadata": {
  "kernelspec": {
   "display_name": "Python 2",
   "language": "python",
   "name": "python2"
  },
  "language_info": {
   "codemirror_mode": {
    "name": "ipython",
    "version": 2.0
   },
   "file_extension": ".py",
   "mimetype": "text/x-python",
   "name": "python",
   "nbconvert_exporter": "python",
   "pygments_lexer": "ipython2",
   "version": "2.7.13"
  }
 },
 "nbformat": 4,
 "nbformat_minor": 0
}